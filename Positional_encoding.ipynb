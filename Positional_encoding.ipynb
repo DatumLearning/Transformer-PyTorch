{
  "nbformat": 4,
  "nbformat_minor": 0,
  "metadata": {
    "colab": {
      "provenance": [],
      "authorship_tag": "ABX9TyNMQNMsjwrpGujRgQGQ1bN3",
      "include_colab_link": true
    },
    "kernelspec": {
      "name": "python3",
      "display_name": "Python 3"
    },
    "language_info": {
      "name": "python"
    }
  },
  "cells": [
    {
      "cell_type": "markdown",
      "metadata": {
        "id": "view-in-github",
        "colab_type": "text"
      },
      "source": [
        "<a href=\"https://colab.research.google.com/github/DatumLearning/Transformer-PyTorch/blob/main/Positional_encoding.ipynb\" target=\"_parent\"><img src=\"https://colab.research.google.com/assets/colab-badge.svg\" alt=\"Open In Colab\"/></a>"
      ]
    },
    {
      "cell_type": "code",
      "source": [
        "import torch\n",
        "import torch.nn as nn\n",
        "import torch.nn.functional as F\n",
        "import math"
      ],
      "metadata": {
        "id": "UVYuevRYYLNM"
      },
      "execution_count": null,
      "outputs": []
    },
    {
      "cell_type": "code",
      "source": [
        "class PositionalEncoding(nn.Module):\n",
        "  def __init__(self , d_model , max_len):\n",
        "    super(PositionalEncoding , self).__init__()\n",
        "    pe = torch.zeros(max_len , d_model)\n",
        "    position = torch.arange(0 , max_len , dtype = torch.float).unsqueeze(1)\n",
        "    div = torch.exp(-1 * (torch.arange(0 , d_model , 2) / d_model) * math.log(10000.0))\n",
        "    pe[: , 0::2] = torch.sin(position * div)\n",
        "    pe[: , 1::2] = torch.cos(position * div)\n",
        "    self.register_buffer('pe' , pe)\n",
        "\n",
        "  def forward(self , x):\n",
        "    return x + self.pe[:x.size(1)]"
      ],
      "metadata": {
        "id": "C6F-JKDZBxKj"
      },
      "execution_count": null,
      "outputs": []
    },
    {
      "cell_type": "code",
      "source": [
        "PE = PositionalEncoding(512 , 5000)"
      ],
      "metadata": {
        "id": "C4IA2tUpC3TF"
      },
      "execution_count": null,
      "outputs": []
    },
    {
      "cell_type": "code",
      "source": [
        "PE(torch.randn(16 , 10 , 512)).shape"
      ],
      "metadata": {
        "colab": {
          "base_uri": "https://localhost:8080/"
        },
        "id": "j794AzWQC7TO",
        "outputId": "00fa6b86-17e0-4c12-e03e-f727ac801f4c"
      },
      "execution_count": null,
      "outputs": [
        {
          "output_type": "execute_result",
          "data": {
            "text/plain": [
              "torch.Size([16, 10, 512])"
            ]
          },
          "metadata": {},
          "execution_count": 15
        }
      ]
    },
    {
      "cell_type": "code",
      "source": [],
      "metadata": {
        "id": "cc7vSRCAE4iY"
      },
      "execution_count": null,
      "outputs": []
    }
  ]
}