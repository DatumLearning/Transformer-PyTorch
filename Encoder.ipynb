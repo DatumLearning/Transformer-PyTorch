{
  "nbformat": 4,
  "nbformat_minor": 0,
  "metadata": {
    "colab": {
      "provenance": [],
      "authorship_tag": "ABX9TyN0c2rBtLc51UssQIoD7duq",
      "include_colab_link": true
    },
    "kernelspec": {
      "name": "python3",
      "display_name": "Python 3"
    },
    "language_info": {
      "name": "python"
    }
  },
  "cells": [
    {
      "cell_type": "markdown",
      "metadata": {
        "id": "view-in-github",
        "colab_type": "text"
      },
      "source": [
        "<a href=\"https://colab.research.google.com/github/DatumLearning/Transformer-PyTorch/blob/main/Encoder.ipynb\" target=\"_parent\"><img src=\"https://colab.research.google.com/assets/colab-badge.svg\" alt=\"Open In Colab\"/></a>"
      ]
    },
    {
      "cell_type": "code",
      "source": [
        "import torch\n",
        "import torch.nn as nn\n",
        "import torch.nn.functional as F\n",
        "import math"
      ],
      "metadata": {
        "id": "_9Y0qegEF1_J"
      },
      "execution_count": null,
      "outputs": []
    },
    {
      "cell_type": "code",
      "source": [
        "class SelfAttention(nn.Module):\n",
        "  def __init__(self , d_model):\n",
        "    super(SelfAttention , self).__init__()\n",
        "    self.d_model = d_model\n",
        "    self.query = nn.Linear(d_model , d_model)\n",
        "    self.key = nn.Linear(d_model , d_model)\n",
        "    self.value = nn.Linear(d_model , d_model)\n",
        "\n",
        "  def forward(self , x):\n",
        "    Q = self.query(x)\n",
        "    K = self.key(x)\n",
        "    V = self.value(x)\n",
        "\n",
        "    scores = torch.matmul(Q , K.transpose(-2 , -1)) / math.sqrt(self.d_model)\n",
        "    attention_weights = F.softmax(scores , dim = -1)\n",
        "    output = torch.matmul(attention_weights , V)\n",
        "    return output"
      ],
      "metadata": {
        "id": "lPQyMRfXGIPd"
      },
      "execution_count": null,
      "outputs": []
    },
    {
      "cell_type": "code",
      "source": [
        "class FeedForward(nn.Module):\n",
        "  def __init__(self , d_model , ff_dim):\n",
        "    super(FeedForward , self).__init__()\n",
        "    self.l1 = nn.Linear(d_model , ff_dim)\n",
        "    self.l2 = nn.Linear(ff_dim , d_model)\n",
        "\n",
        "  def forward(self , x):\n",
        "    return self.l2(F.relu(self.l1(x)))"
      ],
      "metadata": {
        "id": "-pAdS6kCHOrX"
      },
      "execution_count": null,
      "outputs": []
    },
    {
      "cell_type": "code",
      "source": [
        "class TransformerEncoderBlock(nn.Module):\n",
        "  def __init__(self , d_model , ff_dim , dropout = 0.1):\n",
        "    super(TransformerEncoderBlock , self).__init__()\n",
        "    self.self_attn = SelfAttention(d_model)\n",
        "    self.ffn = FeedForward(d_model, ff_dim)\n",
        "    self.norm1 = nn.LayerNorm(d_model)\n",
        "    self.norm2 = nn.LayerNorm(d_model)\n",
        "    self.dropout = nn.Dropout(dropout)\n",
        "\n",
        "  def forward(self , x):\n",
        "    attn_out = self.self_attn(x)\n",
        "    x = x + self.dropout(attn_out)\n",
        "    x = self.norm1(x)\n",
        "\n",
        "    ffn_out = self.ffn(x)\n",
        "    x = x + self.dropout(ffn_out)\n",
        "    x = self.norm2(x)\n",
        "    return x"
      ],
      "metadata": {
        "id": "XWzd0m6nHug8"
      },
      "execution_count": null,
      "outputs": []
    },
    {
      "cell_type": "code",
      "source": [
        "TE = TransformerEncoderBlock(512 , 1024)"
      ],
      "metadata": {
        "id": "qAmUnlcmIxR8"
      },
      "execution_count": null,
      "outputs": []
    },
    {
      "cell_type": "code",
      "source": [
        "TE(torch.randn(16 , 10 , 512)).shape"
      ],
      "metadata": {
        "colab": {
          "base_uri": "https://localhost:8080/"
        },
        "id": "hdPv65v2I6UY",
        "outputId": "616e0b27-2747-40ca-8d9a-54f3e89735de"
      },
      "execution_count": null,
      "outputs": [
        {
          "output_type": "execute_result",
          "data": {
            "text/plain": [
              "torch.Size([16, 10, 512])"
            ]
          },
          "metadata": {},
          "execution_count": 16
        }
      ]
    },
    {
      "cell_type": "code",
      "source": [],
      "metadata": {
        "id": "MXrPlkq_JMD6"
      },
      "execution_count": null,
      "outputs": []
    }
  ]
}