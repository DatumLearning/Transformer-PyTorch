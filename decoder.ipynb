{
  "nbformat": 4,
  "nbformat_minor": 0,
  "metadata": {
    "colab": {
      "provenance": [],
      "authorship_tag": "ABX9TyPto97VwUV2PUyqqoMBeRy/",
      "include_colab_link": true
    },
    "kernelspec": {
      "name": "python3",
      "display_name": "Python 3"
    },
    "language_info": {
      "name": "python"
    }
  },
  "cells": [
    {
      "cell_type": "markdown",
      "metadata": {
        "id": "view-in-github",
        "colab_type": "text"
      },
      "source": [
        "<a href=\"https://colab.research.google.com/github/DatumLearning/Transformer-PyTorch/blob/main/decoder.ipynb\" target=\"_parent\"><img src=\"https://colab.research.google.com/assets/colab-badge.svg\" alt=\"Open In Colab\"/></a>"
      ]
    },
    {
      "cell_type": "code",
      "source": [
        "import torch\n",
        "import torch.nn as nn\n",
        "import torch.nn.functional as F\n",
        "import math"
      ],
      "metadata": {
        "id": "fv7t-rkIl3Pq"
      },
      "execution_count": 1,
      "outputs": []
    },
    {
      "cell_type": "code",
      "source": [
        "class SelfAttention(nn.Module):\n",
        "  def __init__(self , d_model):\n",
        "    super(SelfAttention , self).__init__()\n",
        "    self.d_model = d_model\n",
        "    self.query = nn.Linear(d_model , d_model)\n",
        "    self.key = nn.Linear(d_model , d_model)\n",
        "    self.value = nn.Linear(d_model , d_model)\n",
        "\n",
        "  def forward(self , x , mask = None):\n",
        "    Q = self.query(x)\n",
        "    K = self.key(x)\n",
        "    V = self.value(x)\n",
        "\n",
        "    scores = torch.matmul(Q , K.transpose(-2 , -1)) / math.sqrt(self.d_model)\n",
        "    if mask is not None:\n",
        "      scores = scores.masked_fill(mask == 0 , float('inf'))\n",
        "    attn_weights = F.softmax(scores , dim = -1)\n",
        "    output = torch.matmul(attn_weights , V)\n",
        "    return output"
      ],
      "metadata": {
        "id": "z6akxoOgrncJ"
      },
      "execution_count": 15,
      "outputs": []
    },
    {
      "cell_type": "code",
      "source": [
        "class CrossAttention(nn.Module):\n",
        "  def __init__(self , d_model):\n",
        "    super(CrossAttention , self).__init__()\n",
        "    self.d_model = d_model\n",
        "    self.query = nn.Linear(d_model , d_model)\n",
        "    self.key = nn.Linear(d_model , d_model)\n",
        "    self.value = nn.Linear(d_model , d_model)\n",
        "\n",
        "  def forward(self , x , enc_out , mask = None):\n",
        "    Q = self.query(x)\n",
        "    K = self.key(enc_out)\n",
        "    V = self.value(enc_out)\n",
        "\n",
        "    scores = torch.matmul(Q , K.transpose(-2 , -1)) / math.sqrt(self.d_model)\n",
        "    if mask is not None:\n",
        "      scores = scores.masked_fill(mask == 0 , float('inf'))\n",
        "    attn_weights = F.softmax(scores , dim = -1)\n",
        "    output = torch.matmul(attn_weights , V)\n",
        "    return output"
      ],
      "metadata": {
        "id": "7mhttFXHs-Bv"
      },
      "execution_count": 16,
      "outputs": []
    },
    {
      "cell_type": "code",
      "source": [
        "class FeedForward(nn.Module):\n",
        "  def __init__(self , d_model , ff_hidden):\n",
        "    super(FeedForward , self).__init__()\n",
        "    self.l1 = nn.Linear(d_model , ff_hidden)\n",
        "    self.l2 = nn.Linear(ff_hidden , d_model)\n",
        "\n",
        "  def forward(self , x):\n",
        "    return self.l2(F.relu(self.l1(x)))"
      ],
      "metadata": {
        "id": "s8a9KLAltI3F"
      },
      "execution_count": 17,
      "outputs": []
    },
    {
      "cell_type": "code",
      "source": [
        "class TransformerDecoderLayer(nn.Module):\n",
        "  def __init__(self , d_model , ff_hidden , dropout = 0.1):\n",
        "    super(TransformerDecoderLayer , self).__init__()\n",
        "    self.self_attn = SelfAttention(d_model)\n",
        "    self.cross_attn = CrossAttention(d_model)\n",
        "    self.ffn = FeedForward(d_model , ff_hidden)\n",
        "    self.norm1 = nn.LayerNorm(d_model)\n",
        "    self.norm2 = nn.LayerNorm(d_model)\n",
        "    self.norm3 = nn.LayerNorm(d_model)\n",
        "    self.dropout = nn.Dropout(dropout)\n",
        "\n",
        "  def forward(self , x , enc_out , tgt_mask = None , memory_mask = None):\n",
        "    #Self Attention\n",
        "    attn_out = self.self_attn(x , tgt_mask)\n",
        "    x = x + self.dropout(attn_out)\n",
        "    x = self.norm1(x)\n",
        "\n",
        "    #Cross Attention\n",
        "    attn_out = self.cross_attn(x , enc_out , memory_mask)\n",
        "    x = x + self.dropout(attn_out)\n",
        "    x = self.norm2(x)\n",
        "\n",
        "    #Feed Forward\n",
        "    ffn_out = self.ffn(x)\n",
        "    x = x + self.dropout(ffn_out)\n",
        "    x = self.norm3(x)\n",
        "    return x"
      ],
      "metadata": {
        "id": "fiFsjX1itmxh"
      },
      "execution_count": 21,
      "outputs": []
    },
    {
      "cell_type": "code",
      "source": [
        "TDL = TransformerDecoderLayer(512 , 1000)"
      ],
      "metadata": {
        "id": "pMTkAo60u9WS"
      },
      "execution_count": 22,
      "outputs": []
    },
    {
      "cell_type": "code",
      "source": [
        "TDL(torch.randn(16 , 10 , 512) , torch.randn(16 , 10 , 512)).shape"
      ],
      "metadata": {
        "colab": {
          "base_uri": "https://localhost:8080/"
        },
        "id": "Q7BXIK9JvFVV",
        "outputId": "1f9f9530-3ccf-44e4-97a5-55d0b1e05091"
      },
      "execution_count": 23,
      "outputs": [
        {
          "output_type": "execute_result",
          "data": {
            "text/plain": [
              "torch.Size([16, 10, 512])"
            ]
          },
          "metadata": {},
          "execution_count": 23
        }
      ]
    },
    {
      "cell_type": "code",
      "source": [],
      "metadata": {
        "id": "DommhUhDvVC-"
      },
      "execution_count": 23,
      "outputs": []
    }
  ]
}